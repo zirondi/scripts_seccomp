{
 "cells": [
  {
   "cell_type": "code",
   "execution_count": null,
   "metadata": {},
   "outputs": [],
   "source": [
    "import json\n",
    "import ctypes\n",
    "import os\n",
    "import sys"
   ]
  },
  {
   "cell_type": "code",
   "execution_count": null,
   "metadata": {},
   "outputs": [],
   "source": [
    "# buttons\n",
    "\n",
    "MB_OK = 0x0\n",
    "\n",
    "# icons\n",
    "\n",
    "ICON_EXCLAIM = 0x30\n",
    "ICON_INFO = 0x40"
   ]
  },
  {
   "cell_type": "code",
   "execution_count": null,
   "metadata": {},
   "outputs": [],
   "source": [
    "# consts\n",
    "\n",
    "FNAME_DATA = 'data.json'\n",
    "FNAME_TEMPLATE_DEFAULT = 'Template.html'\n",
    "FNAME_TEMPLATE_DIREITA = 'Template-Direita.html'"
   ]
  },
  {
   "cell_type": "code",
   "execution_count": null,
   "metadata": {},
   "outputs": [],
   "source": [
    "# functions\n",
    "\n",
    "def validate_files() -> None:\n",
    "    if not os.path.isfile(FNAME_DATA):\n",
    "        ctypes.windll.user32.MessageBoxW(0, \"Arquivo data.json nao econtrado.\", \"Erro\", ICON_EXCLAIM | MB_OK)\n",
    "        sys.exit(1)\n",
    "\n",
    "    if not os.path.isfile(FNAME_TEMPLATE_DEFAULT):\n",
    "        ctypes.windll.user32.MessageBoxW(0, f\"Arquivo {FNAME_TEMPLATE_DEFAULT} nao econtrado.\", \"Erro\", ICON_EXCLAIM | MB_OK)\n",
    "        sys.exit(1)\n",
    "\n",
    "    if not os.path.isfile(FNAME_TEMPLATE_DIREITA):\n",
    "        ctypes.windll.user32.MessageBoxW(0, f\"Arquivo {FNAME_TEMPLATE_DIREITA} nao econtrado.\", \"Erro\", ICON_EXCLAIM | MB_OK)\n",
    "        sys.exit(1)\n",
    "\n",
    "def get_htmls() -> list:\n",
    "    with open(FNAME_TEMPLATE_DEFAULT, 'r') as f:\n",
    "        html_default = f.read()\n",
    "    \n",
    "    with open(FNAME_TEMPLATE_DIREITA, 'r') as f:\n",
    "        html_direita = f.read()\n",
    "    \n",
    "    return html_default.split('<!-- SPLIT -->'), html_direita.split('<!-- SPLIT -->')\n",
    "    \n",
    "def make_html(htmls: list) -> None:\n",
    "    with open(FNAME_DATA, 'r') as f:\n",
    "        data = json.load(f)\n",
    "    \n",
    "    for key in data:\n",
    "        if not 'Direita' in key:\n",
    "            with open(key, 'w') as f:\n",
    "                f.write(htmls[0][0])\n",
    "                f.write(data[key])\n",
    "                f.write(htmls[0][1])\n",
    "        else:\n",
    "            with open(key, 'w') as f:\n",
    "                f.write(htmls[1][0])\n",
    "                f.write(data[key])\n",
    "                f.write(htmls[1][1])\n",
    "    \n",
    "    ctypes.windll.user32.MessageBoxW(0, f\"Arquivo(s) alterados com sucesso!\", u\"Sucesso!\", ICON_INFO | MB_OK)"
   ]
  },
  {
   "cell_type": "code",
   "execution_count": null,
   "metadata": {},
   "outputs": [],
   "source": [
    "# main\n",
    "if __name__ == '__main__':\n",
    "    validate_files()\n",
    "    htmls = get_htmls()\n",
    "    make_html(htmls)"
   ]
  }
 ],
 "metadata": {
  "kernelspec": {
   "display_name": "Python 3",
   "language": "python",
   "name": "python3"
  },
  "language_info": {
   "codemirror_mode": {
    "name": "ipython",
    "version": 3
   },
   "file_extension": ".py",
   "mimetype": "text/x-python",
   "name": "python",
   "nbconvert_exporter": "python",
   "pygments_lexer": "ipython3",
   "version": "3.11.5"
  }
 },
 "nbformat": 4,
 "nbformat_minor": 2
}
